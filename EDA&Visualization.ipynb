{
 "cells": [
  {
   "cell_type": "markdown",
   "id": "3869a1be",
   "metadata": {},
   "source": [
    "# Import Library"
   ]
  },
  {
   "cell_type": "code",
   "execution_count": 1,
   "id": "908e2657",
   "metadata": {},
   "outputs": [],
   "source": [
    "import datetime\n",
    "from tqdm import tqdm\n",
    "\n",
    "import pandas as pd\n",
    "import numpy as np\n",
    "\n",
    "import seaborn as sns\n",
    "import matplotlib.pyplot as plt\n",
    "\n",
    "from sklearn.mixture import GaussianMixture\n",
    "from sklearn.linear_model import LinearRegression"
   ]
  },
  {
   "cell_type": "markdown",
   "id": "64ad5d67",
   "metadata": {},
   "source": [
    "# Selling Data"
   ]
  },
  {
   "cell_type": "code",
   "execution_count": 2,
   "id": "8fa024fc",
   "metadata": {
    "scrolled": false
   },
   "outputs": [
    {
     "data": {
      "text/html": [
       "<div>\n",
       "<style scoped>\n",
       "    .dataframe tbody tr th:only-of-type {\n",
       "        vertical-align: middle;\n",
       "    }\n",
       "\n",
       "    .dataframe tbody tr th {\n",
       "        vertical-align: top;\n",
       "    }\n",
       "\n",
       "    .dataframe thead th {\n",
       "        text-align: right;\n",
       "    }\n",
       "</style>\n",
       "<table border=\"1\" class=\"dataframe\">\n",
       "  <thead>\n",
       "    <tr style=\"text-align: right;\">\n",
       "      <th></th>\n",
       "      <th>id</th>\n",
       "      <th>timestamp</th>\n",
       "      <th>item</th>\n",
       "      <th>co_op</th>\n",
       "      <th>loc</th>\n",
       "      <th>supply</th>\n",
       "      <th>price</th>\n",
       "      <th>year</th>\n",
       "      <th>month</th>\n",
       "      <th>week</th>\n",
       "      <th>day</th>\n",
       "      <th>yemon</th>\n",
       "      <th>holiday</th>\n",
       "    </tr>\n",
       "  </thead>\n",
       "  <tbody>\n",
       "    <tr>\n",
       "      <th>0</th>\n",
       "      <td>TG_A_J_20190101</td>\n",
       "      <td>2019-01-01</td>\n",
       "      <td>TG</td>\n",
       "      <td>A</td>\n",
       "      <td>J</td>\n",
       "      <td>0.00</td>\n",
       "      <td>0.00</td>\n",
       "      <td>2019</td>\n",
       "      <td>1</td>\n",
       "      <td>1</td>\n",
       "      <td>1</td>\n",
       "      <td>2019-01</td>\n",
       "      <td>1</td>\n",
       "    </tr>\n",
       "    <tr>\n",
       "      <th>1</th>\n",
       "      <td>TG_A_J_20190102</td>\n",
       "      <td>2019-01-02</td>\n",
       "      <td>TG</td>\n",
       "      <td>A</td>\n",
       "      <td>J</td>\n",
       "      <td>0.00</td>\n",
       "      <td>0.00</td>\n",
       "      <td>2019</td>\n",
       "      <td>1</td>\n",
       "      <td>1</td>\n",
       "      <td>2</td>\n",
       "      <td>2019-01</td>\n",
       "      <td>0</td>\n",
       "    </tr>\n",
       "    <tr>\n",
       "      <th>2</th>\n",
       "      <td>TG_A_J_20190103</td>\n",
       "      <td>2019-01-03</td>\n",
       "      <td>TG</td>\n",
       "      <td>A</td>\n",
       "      <td>J</td>\n",
       "      <td>606.01</td>\n",
       "      <td>17.28</td>\n",
       "      <td>2019</td>\n",
       "      <td>1</td>\n",
       "      <td>1</td>\n",
       "      <td>3</td>\n",
       "      <td>2019-01</td>\n",
       "      <td>0</td>\n",
       "    </tr>\n",
       "    <tr>\n",
       "      <th>3</th>\n",
       "      <td>TG_A_J_20190104</td>\n",
       "      <td>2019-01-04</td>\n",
       "      <td>TG</td>\n",
       "      <td>A</td>\n",
       "      <td>J</td>\n",
       "      <td>250.00</td>\n",
       "      <td>14.08</td>\n",
       "      <td>2019</td>\n",
       "      <td>1</td>\n",
       "      <td>1</td>\n",
       "      <td>4</td>\n",
       "      <td>2019-01</td>\n",
       "      <td>0</td>\n",
       "    </tr>\n",
       "    <tr>\n",
       "      <th>4</th>\n",
       "      <td>TG_A_J_20190105</td>\n",
       "      <td>2019-01-05</td>\n",
       "      <td>TG</td>\n",
       "      <td>A</td>\n",
       "      <td>J</td>\n",
       "      <td>323.52</td>\n",
       "      <td>12.50</td>\n",
       "      <td>2019</td>\n",
       "      <td>1</td>\n",
       "      <td>1</td>\n",
       "      <td>5</td>\n",
       "      <td>2019-01</td>\n",
       "      <td>0</td>\n",
       "    </tr>\n",
       "    <tr>\n",
       "      <th>...</th>\n",
       "      <td>...</td>\n",
       "      <td>...</td>\n",
       "      <td>...</td>\n",
       "      <td>...</td>\n",
       "      <td>...</td>\n",
       "      <td>...</td>\n",
       "      <td>...</td>\n",
       "      <td>...</td>\n",
       "      <td>...</td>\n",
       "      <td>...</td>\n",
       "      <td>...</td>\n",
       "      <td>...</td>\n",
       "      <td>...</td>\n",
       "    </tr>\n",
       "    <tr>\n",
       "      <th>59392</th>\n",
       "      <td>RD_F_J_20230227</td>\n",
       "      <td>2023-02-27</td>\n",
       "      <td>RD</td>\n",
       "      <td>F</td>\n",
       "      <td>J</td>\n",
       "      <td>4524.40</td>\n",
       "      <td>4.68</td>\n",
       "      <td>2023</td>\n",
       "      <td>2</td>\n",
       "      <td>9</td>\n",
       "      <td>0</td>\n",
       "      <td>2023-02</td>\n",
       "      <td>0</td>\n",
       "    </tr>\n",
       "    <tr>\n",
       "      <th>59393</th>\n",
       "      <td>RD_F_J_20230228</td>\n",
       "      <td>2023-02-28</td>\n",
       "      <td>RD</td>\n",
       "      <td>F</td>\n",
       "      <td>J</td>\n",
       "      <td>4219.80</td>\n",
       "      <td>5.31</td>\n",
       "      <td>2023</td>\n",
       "      <td>2</td>\n",
       "      <td>9</td>\n",
       "      <td>1</td>\n",
       "      <td>2023-02</td>\n",
       "      <td>0</td>\n",
       "    </tr>\n",
       "    <tr>\n",
       "      <th>59394</th>\n",
       "      <td>RD_F_J_20230301</td>\n",
       "      <td>2023-03-01</td>\n",
       "      <td>RD</td>\n",
       "      <td>F</td>\n",
       "      <td>J</td>\n",
       "      <td>3829.80</td>\n",
       "      <td>5.74</td>\n",
       "      <td>2023</td>\n",
       "      <td>3</td>\n",
       "      <td>9</td>\n",
       "      <td>2</td>\n",
       "      <td>2023-03</td>\n",
       "      <td>0</td>\n",
       "    </tr>\n",
       "    <tr>\n",
       "      <th>59395</th>\n",
       "      <td>RD_F_J_20230302</td>\n",
       "      <td>2023-03-02</td>\n",
       "      <td>RD</td>\n",
       "      <td>F</td>\n",
       "      <td>J</td>\n",
       "      <td>4772.20</td>\n",
       "      <td>5.23</td>\n",
       "      <td>2023</td>\n",
       "      <td>3</td>\n",
       "      <td>9</td>\n",
       "      <td>3</td>\n",
       "      <td>2023-03</td>\n",
       "      <td>0</td>\n",
       "    </tr>\n",
       "    <tr>\n",
       "      <th>59396</th>\n",
       "      <td>RD_F_J_20230303</td>\n",
       "      <td>2023-03-03</td>\n",
       "      <td>RD</td>\n",
       "      <td>F</td>\n",
       "      <td>J</td>\n",
       "      <td>4275.20</td>\n",
       "      <td>5.29</td>\n",
       "      <td>2023</td>\n",
       "      <td>3</td>\n",
       "      <td>9</td>\n",
       "      <td>4</td>\n",
       "      <td>2023-03</td>\n",
       "      <td>0</td>\n",
       "    </tr>\n",
       "  </tbody>\n",
       "</table>\n",
       "<p>59397 rows × 13 columns</p>\n",
       "</div>"
      ],
      "text/plain": [
       "                    id   timestamp item co_op loc   supply  price  year  \\\n",
       "0      TG_A_J_20190101  2019-01-01   TG     A   J     0.00   0.00  2019   \n",
       "1      TG_A_J_20190102  2019-01-02   TG     A   J     0.00   0.00  2019   \n",
       "2      TG_A_J_20190103  2019-01-03   TG     A   J   606.01  17.28  2019   \n",
       "3      TG_A_J_20190104  2019-01-04   TG     A   J   250.00  14.08  2019   \n",
       "4      TG_A_J_20190105  2019-01-05   TG     A   J   323.52  12.50  2019   \n",
       "...                ...         ...  ...   ...  ..      ...    ...   ...   \n",
       "59392  RD_F_J_20230227  2023-02-27   RD     F   J  4524.40   4.68  2023   \n",
       "59393  RD_F_J_20230228  2023-02-28   RD     F   J  4219.80   5.31  2023   \n",
       "59394  RD_F_J_20230301  2023-03-01   RD     F   J  3829.80   5.74  2023   \n",
       "59395  RD_F_J_20230302  2023-03-02   RD     F   J  4772.20   5.23  2023   \n",
       "59396  RD_F_J_20230303  2023-03-03   RD     F   J  4275.20   5.29  2023   \n",
       "\n",
       "       month  week  day    yemon  holiday  \n",
       "0          1     1    1  2019-01        1  \n",
       "1          1     1    2  2019-01        0  \n",
       "2          1     1    3  2019-01        0  \n",
       "3          1     1    4  2019-01        0  \n",
       "4          1     1    5  2019-01        0  \n",
       "...      ...   ...  ...      ...      ...  \n",
       "59392      2     9    0  2023-02        0  \n",
       "59393      2     9    1  2023-02        0  \n",
       "59394      3     9    2  2023-03        0  \n",
       "59395      3     9    3  2023-03        0  \n",
       "59396      3     9    4  2023-03        0  \n",
       "\n",
       "[59397 rows x 13 columns]"
      ]
     },
     "execution_count": 2,
     "metadata": {},
     "output_type": "execute_result"
    }
   ],
   "source": [
    "selling=pd.read_csv('./data/selling.csv')\n",
    "selling"
   ]
  },
  {
   "cell_type": "markdown",
   "id": "a89a9f6a",
   "metadata": {},
   "source": [
    "## Some Basic Statistics"
   ]
  },
  {
   "cell_type": "code",
   "execution_count": 3,
   "id": "78665e83",
   "metadata": {},
   "outputs": [
    {
     "name": "stdout",
     "output_type": "stream",
     "text": [
      "<class 'pandas.core.frame.DataFrame'>\n",
      "RangeIndex: 59397 entries, 0 to 59396\n",
      "Data columns (total 13 columns):\n",
      " #   Column     Non-Null Count  Dtype  \n",
      "---  ------     --------------  -----  \n",
      " 0   id         59397 non-null  object \n",
      " 1   timestamp  59397 non-null  object \n",
      " 2   item       59397 non-null  object \n",
      " 3   co_op      59397 non-null  object \n",
      " 4   loc        59397 non-null  object \n",
      " 5   supply     59397 non-null  float64\n",
      " 6   price      59397 non-null  float64\n",
      " 7   year       59397 non-null  int64  \n",
      " 8   month      59397 non-null  int64  \n",
      " 9   week       59397 non-null  int64  \n",
      " 10  day        59397 non-null  int64  \n",
      " 11  yemon      59397 non-null  object \n",
      " 12  holiday    59397 non-null  int64  \n",
      "dtypes: float64(2), int64(5), object(6)\n",
      "memory usage: 5.9+ MB\n"
     ]
    }
   ],
   "source": [
    "selling.info()"
   ]
  },
  {
   "cell_type": "code",
   "execution_count": 4,
   "id": "edf90c07",
   "metadata": {},
   "outputs": [
    {
     "data": {
      "text/html": [
       "<div>\n",
       "<style scoped>\n",
       "    .dataframe tbody tr th:only-of-type {\n",
       "        vertical-align: middle;\n",
       "    }\n",
       "\n",
       "    .dataframe tbody tr th {\n",
       "        vertical-align: top;\n",
       "    }\n",
       "\n",
       "    .dataframe thead th {\n",
       "        text-align: right;\n",
       "    }\n",
       "</style>\n",
       "<table border=\"1\" class=\"dataframe\">\n",
       "  <thead>\n",
       "    <tr style=\"text-align: right;\">\n",
       "      <th></th>\n",
       "      <th>supply</th>\n",
       "      <th>price</th>\n",
       "      <th>year</th>\n",
       "      <th>month</th>\n",
       "      <th>week</th>\n",
       "      <th>day</th>\n",
       "      <th>holiday</th>\n",
       "    </tr>\n",
       "  </thead>\n",
       "  <tbody>\n",
       "    <tr>\n",
       "      <th>count</th>\n",
       "      <td>59397.000000</td>\n",
       "      <td>59397.000000</td>\n",
       "      <td>59397.000000</td>\n",
       "      <td>59397.000000</td>\n",
       "      <td>59397.000000</td>\n",
       "      <td>59397.000000</td>\n",
       "      <td>59397.00000</td>\n",
       "    </tr>\n",
       "    <tr>\n",
       "      <th>mean</th>\n",
       "      <td>118.945248</td>\n",
       "      <td>11.316807</td>\n",
       "      <td>2020.601445</td>\n",
       "      <td>6.320420</td>\n",
       "      <td>25.772160</td>\n",
       "      <td>2.998687</td>\n",
       "      <td>0.03985</td>\n",
       "    </tr>\n",
       "    <tr>\n",
       "      <th>std</th>\n",
       "      <td>522.639995</td>\n",
       "      <td>20.299414</td>\n",
       "      <td>1.201092</td>\n",
       "      <td>3.519942</td>\n",
       "      <td>15.382153</td>\n",
       "      <td>1.998374</td>\n",
       "      <td>0.19561</td>\n",
       "    </tr>\n",
       "    <tr>\n",
       "      <th>min</th>\n",
       "      <td>0.000000</td>\n",
       "      <td>0.000000</td>\n",
       "      <td>2019.000000</td>\n",
       "      <td>1.000000</td>\n",
       "      <td>1.000000</td>\n",
       "      <td>0.000000</td>\n",
       "      <td>0.00000</td>\n",
       "    </tr>\n",
       "    <tr>\n",
       "      <th>25%</th>\n",
       "      <td>0.000000</td>\n",
       "      <td>0.000000</td>\n",
       "      <td>2020.000000</td>\n",
       "      <td>3.000000</td>\n",
       "      <td>12.000000</td>\n",
       "      <td>1.000000</td>\n",
       "      <td>0.00000</td>\n",
       "    </tr>\n",
       "    <tr>\n",
       "      <th>50%</th>\n",
       "      <td>0.000000</td>\n",
       "      <td>0.000000</td>\n",
       "      <td>2021.000000</td>\n",
       "      <td>6.000000</td>\n",
       "      <td>26.000000</td>\n",
       "      <td>3.000000</td>\n",
       "      <td>0.00000</td>\n",
       "    </tr>\n",
       "    <tr>\n",
       "      <th>75%</th>\n",
       "      <td>38.000000</td>\n",
       "      <td>15.190000</td>\n",
       "      <td>2022.000000</td>\n",
       "      <td>9.000000</td>\n",
       "      <td>39.000000</td>\n",
       "      <td>5.000000</td>\n",
       "      <td>0.00000</td>\n",
       "    </tr>\n",
       "    <tr>\n",
       "      <th>max</th>\n",
       "      <td>12228.000000</td>\n",
       "      <td>209.090000</td>\n",
       "      <td>2023.000000</td>\n",
       "      <td>12.000000</td>\n",
       "      <td>53.000000</td>\n",
       "      <td>6.000000</td>\n",
       "      <td>1.00000</td>\n",
       "    </tr>\n",
       "  </tbody>\n",
       "</table>\n",
       "</div>"
      ],
      "text/plain": [
       "             supply         price          year         month          week  \\\n",
       "count  59397.000000  59397.000000  59397.000000  59397.000000  59397.000000   \n",
       "mean     118.945248     11.316807   2020.601445      6.320420     25.772160   \n",
       "std      522.639995     20.299414      1.201092      3.519942     15.382153   \n",
       "min        0.000000      0.000000   2019.000000      1.000000      1.000000   \n",
       "25%        0.000000      0.000000   2020.000000      3.000000     12.000000   \n",
       "50%        0.000000      0.000000   2021.000000      6.000000     26.000000   \n",
       "75%       38.000000     15.190000   2022.000000      9.000000     39.000000   \n",
       "max    12228.000000    209.090000   2023.000000     12.000000     53.000000   \n",
       "\n",
       "                day      holiday  \n",
       "count  59397.000000  59397.00000  \n",
       "mean       2.998687      0.03985  \n",
       "std        1.998374      0.19561  \n",
       "min        0.000000      0.00000  \n",
       "25%        1.000000      0.00000  \n",
       "50%        3.000000      0.00000  \n",
       "75%        5.000000      0.00000  \n",
       "max        6.000000      1.00000  "
      ]
     },
     "execution_count": 4,
     "metadata": {},
     "output_type": "execute_result"
    }
   ],
   "source": [
    "selling.describe()"
   ]
  },
  {
   "cell_type": "code",
   "execution_count": null,
   "id": "7711f8ec",
   "metadata": {},
   "outputs": [],
   "source": [
    "selling.corr(numeric_only=True)"
   ]
  },
  {
   "cell_type": "markdown",
   "id": "5b1279a3",
   "metadata": {},
   "source": [
    "## Draw Boxplot & Lineplot about 'supply' & 'price' column"
   ]
  },
  {
   "cell_type": "code",
   "execution_count": null,
   "id": "792b95ae",
   "metadata": {},
   "outputs": [],
   "source": [
    "model = LinearRegression()\n",
    "model.fit(X=selling[selling['supply']>0]['supply'].to_numpy().reshape(-1,1),\n",
    "          y=selling[selling['supply']>0]['price'])\n",
    "pred = model.predict(selling[selling['supply']>0]['supply'].to_numpy().reshape(-1,1))\n",
    "\n",
    "fig = plt.figure(figsize=(10, 6))\n",
    "sns.scatterplot(data=selling[selling['supply']>0],\n",
    "            x = \"supply\",\n",
    "            y = \"price\")\n",
    "sns.lineplot(data=selling[selling['supply']>0],\n",
    "            x=\"supply\",\n",
    "            y=pred,\n",
    "            color='orange')\n",
    "plt.xlabel('supply(100kg)')\n",
    "plt.ylabel('price (won/100kg)')\n",
    "plt.show()"
   ]
  },
  {
   "cell_type": "code",
   "execution_count": null,
   "id": "8b583905",
   "metadata": {},
   "outputs": [],
   "source": [
    "fig = plt.figure(figsize=(20, 8))\n",
    "sns.boxplot(data=selling,\n",
    "            x = \"item\",\n",
    "            y = \"supply\")\n",
    "plt.ylabel('supply (100kg)')\n",
    "plt.show() # 특이사항 없음"
   ]
  },
  {
   "cell_type": "code",
   "execution_count": null,
   "id": "19878ec5",
   "metadata": {},
   "outputs": [],
   "source": [
    "fig = plt.figure(figsize=(20, 8))\n",
    "sns.lineplot(data=selling,\n",
    "             x='yemon',\n",
    "             y='supply',\n",
    "             hue='item',\n",
    "            ci=None)\n",
    "plt.xticks(rotation=45)\n",
    "plt.xlabel('timestamp')\n",
    "plt.ylabel('supply (100kg)')\n",
    "plt.show()"
   ]
  },
  {
   "cell_type": "code",
   "execution_count": null,
   "id": "55ca9717",
   "metadata": {
    "scrolled": false
   },
   "outputs": [],
   "source": [
    "fig = plt.figure(figsize=(10, 6))\n",
    "sns.boxenplot(data=selling[selling['price']>0],\n",
    "            x = \"item\",\n",
    "            y = \"price\")\n",
    "plt.ylabel('price (won/100kg)')\n",
    "plt.show() # 감귤(TG) 혼자 상이한 분포를 가진 모습"
   ]
  },
  {
   "cell_type": "code",
   "execution_count": null,
   "id": "35af5178",
   "metadata": {
    "scrolled": false
   },
   "outputs": [],
   "source": [
    "fig = plt.figure(figsize=(20, 8))\n",
    "sns.lineplot(data=selling,\n",
    "             x='yemon',\n",
    "             y='price',\n",
    "             hue='item',\n",
    "             ci=None)\n",
    "plt.xticks(rotation=45)\n",
    "# ax = plt.gca()\n",
    "# ax.tick_params(labelbottom=False)\n",
    "plt.xlabel('timestamp')\n",
    "plt.ylabel('price (won/100kg)')\n",
    "plt.show()"
   ]
  },
  {
   "cell_type": "code",
   "execution_count": null,
   "id": "156a5f3b",
   "metadata": {
    "scrolled": false
   },
   "outputs": [],
   "source": [
    "df=selling[(selling['item']=='TG')&(selling['price']>0)].reset_index(drop=True)\n",
    "sns.histplot(data=df,\n",
    "             x='price',\n",
    "             binwidth=2,\n",
    "             kde=True\n",
    "            )\n",
    "plt.xticks(rotation=45)\n",
    "plt.xlabel('price (won/100kg)')\n",
    "plt.show() # 두 개의 가우시안 분포가 혼합되어 있는 모습 발견"
   ]
  },
  {
   "cell_type": "markdown",
   "id": "54530653",
   "metadata": {},
   "source": [
    "## Draw Histplot about Each Items"
   ]
  },
  {
   "cell_type": "code",
   "execution_count": null,
   "id": "14cdfb6a",
   "metadata": {},
   "outputs": [],
   "source": [
    "df=selling[(selling['item']=='CR')&(selling['price']>0)].reset_index(drop=True)\n",
    "sns.histplot(data=df,\n",
    "             x='price',\n",
    "             binwidth=2,\n",
    "            color='orange',\n",
    "             kde=True\n",
    "            )\n",
    "plt.xticks(rotation=45)\n",
    "plt.xlabel('price (won/100kg)')\n",
    "plt.show()"
   ]
  },
  {
   "cell_type": "code",
   "execution_count": null,
   "id": "e130de46",
   "metadata": {},
   "outputs": [],
   "source": [
    "df=selling[(selling['item']=='CB')&(selling['price']>0)].reset_index(drop=True)\n",
    "sns.histplot(data=df,\n",
    "             x='price',\n",
    "             binwidth=2,\n",
    "            color='green',\n",
    "             kde=True\n",
    "            )\n",
    "plt.xticks(rotation=45)\n",
    "plt.xlabel('price (won/100kg)')\n",
    "plt.show()"
   ]
  },
  {
   "cell_type": "code",
   "execution_count": null,
   "id": "49ee11d7",
   "metadata": {},
   "outputs": [],
   "source": [
    "df=selling[(selling['item']=='RD')&(selling['price']>0)].reset_index(drop=True)\n",
    "sns.histplot(data=df,\n",
    "             x='price',\n",
    "             binwidth=2,\n",
    "             color='red',\n",
    "             kde=True\n",
    "            )\n",
    "plt.xticks(rotation=45)\n",
    "plt.xlabel('price (won/100kg)')\n",
    "plt.show()"
   ]
  },
  {
   "cell_type": "code",
   "execution_count": null,
   "id": "799ad485",
   "metadata": {},
   "outputs": [],
   "source": [
    "df=selling[(selling['item']=='BC')&(selling['price']>0)].reset_index(drop=True)\n",
    "sns.histplot(data=df,\n",
    "             x='price',\n",
    "             binwidth=2,\n",
    "             color='purple',\n",
    "             kde=True\n",
    "            )\n",
    "plt.xticks(rotation=45)\n",
    "plt.xlabel('price (won/100kg)')\n",
    "plt.show()"
   ]
  },
  {
   "cell_type": "code",
   "execution_count": null,
   "id": "73c77df3",
   "metadata": {
    "scrolled": false
   },
   "outputs": [],
   "source": [
    "fig, axes = plt.subplots(5, 1, figsize=(10, 8))\n",
    "\n",
    "df=selling[(selling['item']=='BC')&(selling['price']>0)].reset_index(drop=True)\n",
    "sns.histplot(data=df,\n",
    "             x='price',\n",
    "             binwidth=2,\n",
    "             color='purple',\n",
    "             kde=True,\n",
    "             ax=axes[4]\n",
    "            )\n",
    "axes[4].set_title('BC',fontsize=8)\n",
    "axes[4].tick_params(labelsize=8)\n",
    "\n",
    "df=selling[(selling['item']=='CB')&(selling['price']>0)].reset_index(drop=True)\n",
    "sns.histplot(data=df,\n",
    "             x='price',\n",
    "             binwidth=2,\n",
    "            color='green',\n",
    "             kde=True,\n",
    "             ax=axes[2]\n",
    "            )\n",
    "axes[2].set_title('CB',fontsize=8)\n",
    "axes[2].tick_params(labelsize=8)\n",
    "\n",
    "df=selling[(selling['item']=='RD')&(selling['price']>0)].reset_index(drop=True)\n",
    "sns.histplot(data=df,\n",
    "             x='price',\n",
    "             binwidth=2,\n",
    "             color='red',\n",
    "             kde=True,\n",
    "             ax=axes[3]\n",
    "            )\n",
    "axes[3].set_title('RD',fontsize=8)\n",
    "axes[3].tick_params(labelsize=8)\n",
    "\n",
    "df=selling[(selling['item']=='CR')&(selling['price']>0)].reset_index(drop=True)\n",
    "sns.histplot(data=df,\n",
    "             x='price',\n",
    "             binwidth=2,\n",
    "            color='orange',\n",
    "             kde=True,\n",
    "             ax=axes[1]\n",
    "            )\n",
    "axes[1].set_title('CR',fontsize=8)\n",
    "axes[1].tick_params(labelsize=8)\n",
    "\n",
    "df=selling[(selling['item']=='TG')&(selling['price']>0)].reset_index(drop=True)\n",
    "sns.histplot(data=df,\n",
    "             x='price',\n",
    "             binwidth=2,\n",
    "             kde=True,\n",
    "             ax=axes[0]\n",
    "            )\n",
    "axes[0].set_title('TG',fontsize=8)\n",
    "axes[0].tick_params(labelsize=8)\n",
    "\n",
    "plt.xlabel('price (won/100kg)')\n",
    "plt.ylabel('count')\n",
    "\n",
    "plt.show()"
   ]
  },
  {
   "cell_type": "markdown",
   "id": "8ff1332a",
   "metadata": {},
   "source": [
    "## Devide TG with Gaussian Mixture Model"
   ]
  },
  {
   "cell_type": "code",
   "execution_count": null,
   "id": "0eea8d1c",
   "metadata": {},
   "outputs": [],
   "source": [
    "# GMM 모델 사용을 위해 이상치 파악 -> 해당 이상치 인덱스 백업 후 제거\n",
    "tg_df=selling[(selling['item']=='TG')&(selling['price']>0)]\n",
    "sns.boxplot(data=tg_df,\n",
    "            x = \"item\",\n",
    "            y = \"price\")\n",
    "plt.ylabel('price (won/100kg)')\n",
    "plt.show()"
   ]
  },
  {
   "cell_type": "code",
   "execution_count": null,
   "id": "c94984aa",
   "metadata": {
    "scrolled": true
   },
   "outputs": [],
   "source": [
    "Q1 = tg_df[['price']].quantile(q=0.25).iloc[0]\n",
    "Q3 = tg_df[['price']].quantile(q=0.75).iloc[0]\n",
    "IQR = Q3-Q1\n",
    "\n",
    "out_idx=[]\n",
    "for idx in range(len(tg_df)):\n",
    "    if tg_df.iloc[idx,6] > Q3+1.5*IQR:\n",
    "        out_idx.append(tg_df.index[idx])\n",
    "\n",
    "backup=tg_df.loc[out_idx,:]\n",
    "backup['expen']='expensive'\n",
    "\n",
    "tg_df=tg_df.drop(out_idx,axis=0)\n",
    "tg_df"
   ]
  },
  {
   "cell_type": "markdown",
   "id": "e96b3d61",
   "metadata": {},
   "source": [
    "### Fit and Predict"
   ]
  },
  {
   "cell_type": "code",
   "execution_count": null,
   "id": "d14d08f9",
   "metadata": {
    "scrolled": false
   },
   "outputs": [],
   "source": [
    "tg_dff=tg_df[['price']]\n",
    "gmm = GaussianMixture(n_components=2, random_state=42, n_init=10, max_iter=300).fit(tg_dff)\n",
    "gmm_cluster_labels = gmm.predict(tg_dff)\n",
    "tg_df['expen'] = gmm_cluster_labels\n",
    "tg_df['expen'] = np.where(tg_df['expen'] == 0, 'expensive', 'cheap')\n",
    "tg_df"
   ]
  },
  {
   "cell_type": "markdown",
   "id": "1a37c2ce",
   "metadata": {},
   "source": [
    "### Scatterplot & Histplot"
   ]
  },
  {
   "cell_type": "code",
   "execution_count": null,
   "id": "f1bc152e",
   "metadata": {
    "scrolled": false
   },
   "outputs": [],
   "source": [
    "sns.scatterplot(data=tg_df,\n",
    "                x='month',\n",
    "                y='price',\n",
    "                hue='expen',\n",
    "                palette={'cheap':'navy',\n",
    "                   'expensive':'gold'}\n",
    "            )\n",
    "plt.xticks(rotation=45)\n",
    "plt.ylabel('price (won/100kg)')\n",
    "plt.show()"
   ]
  },
  {
   "cell_type": "code",
   "execution_count": null,
   "id": "a568d418",
   "metadata": {
    "scrolled": true
   },
   "outputs": [],
   "source": [
    "fig = plt.figure(figsize=(20, 8))\n",
    "sns.histplot(data=tg_df,\n",
    "             x='yemon',\n",
    "             hue='expen',\n",
    "             alpha=0.05,\n",
    "             palette={'cheap':'navy',\n",
    "                   'expensive':'gold'},\n",
    "             edgecolor='0.95',\n",
    "             kde=True\n",
    "            )\n",
    "\n",
    "plt.xticks(rotation=45)\n",
    "plt.xlabel('timestamp')\n",
    "plt.show()"
   ]
  },
  {
   "cell_type": "code",
   "execution_count": null,
   "id": "34722404",
   "metadata": {
    "scrolled": false
   },
   "outputs": [],
   "source": [
    "fig = plt.figure(figsize=(20, 8))\n",
    "sns.histplot(data=tg_df,\n",
    "             x='month',\n",
    "             hue='expen',\n",
    "            binrange=(0.5,12.5),\n",
    "            binwidth=1,\n",
    "             palette={'cheap':'navy',\n",
    "                   'expensive':'gold'}\n",
    "            )\n",
    "\n",
    "plt.show()\n",
    "\n",
    "# 3월부터 9월까지는 비싼 감귤 (만감류&하우스)\n",
    "# 10월부터 2월까지는 싼 감귤 (노지) 이 주로 판매됨"
   ]
  },
  {
   "cell_type": "code",
   "execution_count": null,
   "id": "7b5347af",
   "metadata": {},
   "outputs": [],
   "source": [
    "# 백업해뒀던 데이터 프레임 붙여넣고 sort\n",
    "tg_df=pd.concat([tg_df,backup]).sort_index()\n",
    "tg_df"
   ]
  },
  {
   "cell_type": "markdown",
   "id": "0cc9eaa6",
   "metadata": {},
   "source": [
    "### TG -> C(heap)TG/E(xpensive)TG in Selling Table"
   ]
  },
  {
   "cell_type": "code",
   "execution_count": null,
   "id": "0ea774bc",
   "metadata": {},
   "outputs": [],
   "source": [
    "for idx in range(len(tg_df)):\n",
    "    if tg_df.iloc[idx,-1]=='expensive':\n",
    "        tg_df.iloc[idx,2]='ETG'\n",
    "    else:\n",
    "        tg_df.iloc[idx,2]='CTG'\n",
    "tg_df"
   ]
  },
  {
   "cell_type": "code",
   "execution_count": null,
   "id": "f8a5b645",
   "metadata": {},
   "outputs": [],
   "source": [
    "selling['item'].value_counts()"
   ]
  },
  {
   "cell_type": "code",
   "execution_count": null,
   "id": "fd01a1b7",
   "metadata": {
    "scrolled": true
   },
   "outputs": [],
   "source": [
    "for idx in tg_df.index:\n",
    "    selling.loc[idx,'item']=tg_df.loc[idx,'item']\n",
    "    \n",
    "# TG가 사라질 때까지 다음 행의 CTG, ETG 중 하나로 덮어쓰기\n",
    "for _ in tqdm(range(selling['item'].value_counts()['TG'])):\n",
    "    for idx in selling[selling['item']=='TG'].index:\n",
    "        if selling.loc[idx,'item']=='TG':\n",
    "            selling.loc[idx,'item']=selling.loc[idx+1,'item']\n",
    "        if 'TG' not in selling['item'].unique():\n",
    "            break\n",
    "selling"
   ]
  },
  {
   "cell_type": "code",
   "execution_count": null,
   "id": "8dfe44a3",
   "metadata": {},
   "outputs": [],
   "source": [
    "# 전체 건수 대비 공휴일 건수 비율을 비교해 holiday 컬럼에 대한 타당성 확인\n",
    "all_item=selling['item'].value_counts()\n",
    "holi_item=selling[selling['holiday']==1]['item'].value_counts()\n",
    "all_holi=pd.DataFrame([all_item,holi_item]).T\n",
    "all_holi.columns=['all_cnt','holi_cnt']\n",
    "all_holi['ratio']=round(all_holi['holi_cnt']/all_holi['all_cnt'],4)\n",
    "all_holi"
   ]
  },
  {
   "cell_type": "code",
   "execution_count": null,
   "id": "19642eeb",
   "metadata": {},
   "outputs": [],
   "source": [
    "fig = plt.figure(figsize=(20, 8))\n",
    "sns.boxplot(data=selling[selling['price']>0],\n",
    "            x = \"item\",\n",
    "            y = \"price\",\n",
    "           palette={'CTG':'navy',\n",
    "                      'ETG':'gold',\n",
    "                      'CR':'orange',\n",
    "                      'CB':'green',\n",
    "                      'RD':'red',\n",
    "                      'BC':'purple'}\n",
    "           )\n",
    "plt.ylabel('price')\n",
    "plt.show() # 비싼 감귤(ETG) 혼자 상이한 분포를 가진 모습"
   ]
  },
  {
   "cell_type": "code",
   "execution_count": null,
   "id": "64c46d25",
   "metadata": {},
   "outputs": [],
   "source": [
    "fig = plt.figure(figsize=(20, 8))\n",
    "sns.lineplot(data=selling[(selling['item']=='CTG')|(selling['item']=='ETG')],\n",
    "             x='yemon',\n",
    "             y='price',\n",
    "             hue='item',\n",
    "             palette={'CTG':'navy',\n",
    "                      'ETG':'gold'\n",
    "#                       'CR':'orange',\n",
    "#                       'CB':'green',\n",
    "#                       'RD':'red',\n",
    "#                       'BC':'purple'\n",
    "                     },\n",
    "             ci=None)\n",
    "plt.xticks(rotation=45)\n",
    "plt.xlabel('timestamp')\n",
    "plt.ylabel('price (won/100kg)')\n",
    "plt.show()"
   ]
  },
  {
   "cell_type": "code",
   "execution_count": null,
   "id": "186c3d67",
   "metadata": {},
   "outputs": [],
   "source": [
    "selling"
   ]
  },
  {
   "cell_type": "code",
   "execution_count": null,
   "id": "ea4cea3f",
   "metadata": {},
   "outputs": [],
   "source": [
    "fig, axes = plt.subplots(2, 1, figsize=(10, 8))\n",
    "\n",
    "df=selling[(selling['item']=='CTG')&(selling['price']>0)].reset_index(drop=True)\n",
    "sns.histplot(data=df,\n",
    "             x='price',\n",
    "             binwidth=2,\n",
    "             color='gold',\n",
    "             kde=True,\n",
    "             ax=axes[0]\n",
    "            )\n",
    "axes[0].set_title('CTG',fontsize=8)\n",
    "axes[0].tick_params(labelsize=8)\n",
    "\n",
    "df=selling[(selling['item']=='ETG')&(selling['price']>0)].reset_index(drop=True)\n",
    "sns.histplot(data=df,\n",
    "             x='price',\n",
    "             binwidth=2,\n",
    "            color='navy',\n",
    "             kde=True,\n",
    "             ax=axes[1]\n",
    "            )\n",
    "axes[1].set_title('ETG',fontsize=8)\n",
    "axes[1].tick_params(labelsize=8)"
   ]
  },
  {
   "cell_type": "code",
   "execution_count": null,
   "id": "6d150c20",
   "metadata": {},
   "outputs": [],
   "source": [
    "# selling.to_csv('./data/gmm_selling.csv',index=False)"
   ]
  },
  {
   "cell_type": "markdown",
   "id": "fd6b61c2",
   "metadata": {},
   "source": [
    "# With ASOS Data"
   ]
  },
  {
   "cell_type": "markdown",
   "id": "bab7019d",
   "metadata": {},
   "source": [
    "## Load Data"
   ]
  },
  {
   "cell_type": "code",
   "execution_count": null,
   "id": "0365bfa0",
   "metadata": {},
   "outputs": [],
   "source": [
    "gmm_selling=pd.read_csv('./data/gmm_selling.csv')\n",
    "gmm_selling"
   ]
  },
  {
   "cell_type": "code",
   "execution_count": null,
   "id": "10a7d62b",
   "metadata": {},
   "outputs": [],
   "source": [
    "asos = pd.read_csv('./data/asos.csv')\n",
    "asos"
   ]
  },
  {
   "cell_type": "markdown",
   "id": "78b2ecba",
   "metadata": {},
   "source": [
    "## Sort Selling Data"
   ]
  },
  {
   "cell_type": "code",
   "execution_count": null,
   "id": "1828e313",
   "metadata": {},
   "outputs": [],
   "source": [
    "gmm_selling=gmm_selling.sort_values(['loc','item','timestamp']).reset_index(drop=True)\n",
    "gmm_selling"
   ]
  },
  {
   "cell_type": "markdown",
   "id": "68c159b5",
   "metadata": {},
   "source": [
    "## Add Columns about Weather Data"
   ]
  },
  {
   "cell_type": "code",
   "execution_count": null,
   "id": "a81c46b4",
   "metadata": {
    "scrolled": true
   },
   "outputs": [],
   "source": [
    "gmm_selling['avg_tem']=0\n",
    "gmm_selling['max_tem']=0\n",
    "gmm_selling['min_tem']=0\n",
    "# gmm_selling['sum_rain']=0\n",
    "gmm_selling['max_rain']=0\n",
    "gmm_selling['hr_max_rain']=0\n",
    "gmm_selling['max_wind']=0\n",
    "gmm_selling['avg_sun']=0\n",
    "agri_date={'BC':['07','10'],\n",
    "           'CR':['08','11'],\n",
    "           'CB':['08','11'],\n",
    "           'RD':['09','11'],\n",
    "           'CTG':['03','10'],\n",
    "           'ETG':['10','02']}\n",
    "item_uniq=gmm_selling['item'].unique()\n",
    "year_unqi=list(map(lambda x:x-1,list(selling['year'].unique())))\n",
    "locate=['J','S']\n",
    "for loc in locate:\n",
    "    for item in item_uniq:\n",
    "        agri_loc=asos[asos['station']==loc].reset_index(drop=True)\n",
    "        print(f'{loc} - {item}')\n",
    "        for y in year_unqi:\n",
    "            if int(agri_date[item][0])>int(agri_date[item][1]):\n",
    "                agri_weather=agri_loc[(agri_loc['timestamp']>=(str(y-1)+'-'+str(agri_date[item][0])))&(agri_loc['timestamp']<=(str(y)+'-'+str(agri_date[item][1])))]\n",
    "            else:\n",
    "                agri_weather=agri_loc[(agri_loc['timestamp']>=(str(y)+'-'+str(agri_date[item][0])))&(agri_loc['timestamp']<=(str(y)+'-'+str(agri_date[item][1])))]\n",
    "            avg_tem=round(agri_weather['temperture'].mean(),3)\n",
    "            max_tem=max(agri_weather['maxtem'])\n",
    "            min_tem=min(agri_weather['mintem'])\n",
    "#             sum_rain=sum(agri_weather['raining'])\n",
    "            max_rain=max(agri_weather['raining'])\n",
    "            hr_max_rain=max(agri_weather['hrrain'])\n",
    "            max_wind=max(agri_weather['wind_speed'])\n",
    "            avg_sun=round(agri_weather['sunlight_hour'].mean(),3)\n",
    "            \n",
    "            idx_list=gmm_selling[(gmm_selling['item']==item)&(gmm_selling['loc']==loc)&(gmm_selling['timestamp']>=(str(y)+'-'+str(agri_date[item][1])))&(gmm_selling['timestamp']<=(str(y+1)+'-'+str(agri_date[item][1])))].index\n",
    "            for idx in tqdm(idx_list):\n",
    "                gmm_selling.loc[idx,'avg_tem']=avg_tem\n",
    "                gmm_selling.loc[idx,'max_tem']=max_tem\n",
    "                gmm_selling.loc[idx,'min_tem']=min_tem\n",
    "#                 gmm_selling.loc[idx,'sum_rain']=sum_rain\n",
    "                gmm_selling.loc[idx,'max_rain']=max_rain\n",
    "                gmm_selling.loc[idx,'hr_max_rain']=hr_max_rain\n",
    "                gmm_selling.loc[idx,'max_wind']=max_wind\n",
    "                gmm_selling.loc[idx,'avg_sun']=avg_sun\n",
    "        "
   ]
  },
  {
   "cell_type": "code",
   "execution_count": null,
   "id": "81969d93",
   "metadata": {},
   "outputs": [],
   "source": [
    "gmm_selling"
   ]
  },
  {
   "cell_type": "code",
   "execution_count": null,
   "id": "dcd09df4",
   "metadata": {},
   "outputs": [],
   "source": [
    "# gmm_selling.to_csv('./data/asos_selling.csv',index=False)"
   ]
  },
  {
   "cell_type": "markdown",
   "id": "c7cfef5c",
   "metadata": {},
   "source": [
    "## Check Correlation between 'price' & weather columns"
   ]
  },
  {
   "cell_type": "code",
   "execution_count": null,
   "id": "1e9a80a8",
   "metadata": {
    "scrolled": false
   },
   "outputs": [],
   "source": [
    "asos_selling=pd.read_csv('./data/asos_selling.csv')\n",
    "asos_selling=asos_selling[asos_selling['price']>0].reset_index(drop=True)\n",
    "asos_selling"
   ]
  },
  {
   "cell_type": "code",
   "execution_count": null,
   "id": "6d413f60",
   "metadata": {},
   "outputs": [],
   "source": [
    "aso=asos_selling.copy()\n",
    "aso=aso[['item','supply','price','avg_tem','max_tem','min_tem',\n",
    "         'max_rain','hr_max_rain','max_wind','avg_sun']]\n",
    "corr = aso.corr(numeric_only=True)\n",
    "corr"
   ]
  },
  {
   "cell_type": "code",
   "execution_count": null,
   "id": "7050c1b9",
   "metadata": {
    "scrolled": true
   },
   "outputs": [],
   "source": [
    "fig, ax = plt.subplots( figsize=(14,14) )\n",
    "\n",
    "aso_copy=aso.drop(['item'],axis=1)\n",
    "\n",
    "mask = np.zeros_like(aso_copy.corr(numeric_only=True), dtype=np.bool)\n",
    "mask[np.triu_indices_from(mask)] = True\n",
    "\n",
    "test_heatmap = sns.heatmap(corr.values,\n",
    "                          cbar = True,\n",
    "                           cbar_kws={\"shrink\": .5},\n",
    "                           cmap = 'RdYlBu_r',\n",
    "                           annot = True,\n",
    "                          annot_kws={'size' : 20},\n",
    "                           mask=mask,\n",
    "                           fmt = '.2f',\n",
    "                           square = 'True',\n",
    "                           linewidths=.5,\n",
    "                          yticklabels=aso_copy.columns,\n",
    "                          xticklabels=aso_copy.columns,\n",
    "                          vmin = -1,vmax = 1)\n",
    "plt.show()"
   ]
  },
  {
   "cell_type": "code",
   "execution_count": null,
   "id": "957860c0",
   "metadata": {
    "scrolled": false
   },
   "outputs": [],
   "source": [
    "BC_sell=aso[aso['item']=='BC'].reset_index(drop=True)\n",
    "BC_sell.corr(numeric_only=True)"
   ]
  },
  {
   "cell_type": "code",
   "execution_count": null,
   "id": "eefc0184",
   "metadata": {
    "scrolled": false
   },
   "outputs": [],
   "source": [
    "CB_sell=aso[aso['item']=='CB'].reset_index(drop=True)\n",
    "CB_corr=CB_sell.corr(numeric_only=True)\n",
    "CB_corr"
   ]
  },
  {
   "cell_type": "code",
   "execution_count": null,
   "id": "ecd4b129",
   "metadata": {},
   "outputs": [],
   "source": [
    "fig, ax = plt.subplots( figsize=(14,14) )\n",
    "CB_sell=CB_sell.drop(['item'],axis=1)\n",
    "\n",
    "mask = np.zeros_like(CB_sell.corr(numeric_only=True), dtype=np.bool)\n",
    "mask[np.triu_indices_from(mask)] = True\n",
    "\n",
    "test_heatmap = sns.heatmap(CB_corr.values,\n",
    "                          cbar = True,\n",
    "                           cbar_kws={\"shrink\": .5},\n",
    "                           cmap = 'RdYlBu_r',\n",
    "                           annot = True,\n",
    "                          annot_kws={'size' : 20},\n",
    "                           mask=mask,\n",
    "                           fmt = '.2f',\n",
    "                           square = 'True',\n",
    "                           linewidths=.5,\n",
    "                          yticklabels=CB_sell.columns,\n",
    "                          xticklabels=CB_sell.columns,\n",
    "                          vmin = -1,vmax = 1)\n",
    "plt.show()"
   ]
  },
  {
   "cell_type": "code",
   "execution_count": null,
   "id": "790f127c",
   "metadata": {},
   "outputs": [],
   "source": [
    "CR_sell=aso[aso['item']=='CR'].reset_index(drop=True)\n",
    "CR_sell.corr(numeric_only=True)"
   ]
  },
  {
   "cell_type": "code",
   "execution_count": null,
   "id": "5a84131d",
   "metadata": {},
   "outputs": [],
   "source": [
    "RD_sell=aso[aso['item']=='RD'].reset_index(drop=True)\n",
    "RD_sell.corr(numeric_only=True)"
   ]
  },
  {
   "cell_type": "code",
   "execution_count": null,
   "id": "79fb7f92",
   "metadata": {},
   "outputs": [],
   "source": [
    "CTG_sell=aso[aso['item']=='CTG'].reset_index(drop=True)\n",
    "CTG_sell.corr(numeric_only=True)"
   ]
  },
  {
   "cell_type": "code",
   "execution_count": null,
   "id": "e00bd1f1",
   "metadata": {
    "scrolled": true
   },
   "outputs": [],
   "source": [
    "ETG_sell=aso[aso['item']=='ETG'].reset_index(drop=True)\n",
    "ETG_sell.corr(numeric_only=True)"
   ]
  },
  {
   "cell_type": "code",
   "execution_count": null,
   "id": "ed517324",
   "metadata": {},
   "outputs": [],
   "source": [
    "fig = plt.figure(figsize=(20, 8))\n",
    "sns.lineplot(data=asos_selling,\n",
    "             x='yemon',\n",
    "             y='avg_tem',\n",
    "             ci=None,\n",
    "            label='Average Temperature')\n",
    "sns.lineplot(data=asos_selling,\n",
    "             x='yemon',\n",
    "             y='price',\n",
    "             ci=None,\n",
    "            label='Price')\n",
    "plt.xticks(rotation=45)\n",
    "plt.xlabel('timestamp')\n",
    "plt.ylabel('')\n",
    "plt.legend()\n",
    "plt.title('Price & Average Temperature Trends')\n",
    "plt.show()"
   ]
  },
  {
   "cell_type": "code",
   "execution_count": null,
   "id": "8da7a75a",
   "metadata": {},
   "outputs": [],
   "source": [
    "CB=CB_sell.groupby('max_rain',as_index=False)['price'].mean()\n",
    "model = LinearRegression()\n",
    "model.fit(X=CB['max_rain'].to_numpy().reshape(-1,1),\n",
    "          y=CB['price'])\n",
    "pred = model.predict(CB['max_rain'].to_numpy().reshape(-1,1))\n",
    "pred\n",
    "\n",
    "sns.scatterplot(data=CB,\n",
    "                x='max_rain',\n",
    "                y='price'\n",
    "            )\n",
    "sns.lineplot(x=CB['max_rain'].to_numpy(),\n",
    "            y=pred,\n",
    "            color='orange')\n",
    "# plt.xticks(rotation=45)\n",
    "# plt.ylabel('price (won/100kg)')\n",
    "plt.title('Scatter Max Raining between Price (Cabbage)')\n",
    "plt.show()"
   ]
  },
  {
   "cell_type": "code",
   "execution_count": null,
   "id": "0ed87793",
   "metadata": {},
   "outputs": [],
   "source": [
    "CB=CB_sell.groupby('avg_sun',as_index=False)['price'].mean()\n",
    "model = LinearRegression()\n",
    "model.fit(X=CB['avg_sun'].to_numpy().reshape(-1,1),\n",
    "          y=CB['price'])\n",
    "pred = model.predict(CB['avg_sun'].to_numpy().reshape(-1,1))\n",
    "pred\n",
    "\n",
    "sns.scatterplot(data=CB,\n",
    "                x='avg_sun',\n",
    "                y='price'\n",
    "            )\n",
    "sns.lineplot(x=CB['avg_sun'].to_numpy(),\n",
    "            y=pred,\n",
    "            color='green')\n",
    "# plt.xticks(rotation=45)\n",
    "# plt.ylabel('price (won/100kg)')\n",
    "plt.title('Scatter Average Sunlight between Price (Cabbage)')\n",
    "plt.show()"
   ]
  }
 ],
 "metadata": {
  "kernelspec": {
   "display_name": "univ_project",
   "language": "python",
   "name": "univ"
  },
  "language_info": {
   "codemirror_mode": {
    "name": "ipython",
    "version": 3
   },
   "file_extension": ".py",
   "mimetype": "text/x-python",
   "name": "python",
   "nbconvert_exporter": "python",
   "pygments_lexer": "ipython3",
   "version": "3.10.0"
  }
 },
 "nbformat": 4,
 "nbformat_minor": 5
}
